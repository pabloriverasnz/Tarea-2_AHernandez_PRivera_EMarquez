{
 "cells": [
  {
   "cell_type": "markdown",
   "metadata": {},
   "source": [
    "<img style=\"float: left; margin: 30px 15px 15px 15px;\" src=\"https://pngimage.net/wp-content/uploads/2018/06/logo-iteso-png-5.png\" width=\"300\" height=\"500\" /> \n",
    "    \n",
    "    \n",
    "### <font color='navy'> Simulación de procesos financieros. \n",
    "\n",
    "**Nombres:** Andrés Hernández Jiménez, Pablo Alejandro Rivera Sánchez y Esteban Márquez Delgado.\n",
    "\n",
    "**Fecha:** 3 de febrero del 2021.\n",
    "\n",
    "**Expediente** :  717895, 721005, 700637.\n",
    "**Profesor:** Oscar David Jaramillo Zuluaga.\n",
    "    \n",
    "**Link repositorio: https://github.com/pabloriverasnz/Tarea-2_AHernandez_PRivera_EMarquez**\n",
    "\n",
    "# Tarea 2: Clase 4 "
   ]
  },
  {
   "cell_type": "code",
   "execution_count": 10,
   "metadata": {},
   "outputs": [],
   "source": [
    "import numpy as np\n",
    "import pandas as pd\n",
    "from functools import reduce\n",
    "import scipy.special as sps "
   ]
  },
  {
   "cell_type": "markdown",
   "metadata": {},
   "source": [
    "## Enunciado de tarea \n",
    "> Resolver los siguientes ejercicios:"
   ]
  },
  {
   "cell_type": "markdown",
   "metadata": {},
   "source": [
    "### Ejercicio 1"
   ]
  },
  {
   "attachments": {
    "imagen.png": {
     "image/png": "[encoded data removed]"
    }
   },
   "cell_type": "markdown",
   "metadata": {},
   "source": [
    "1. Imagine una rutina contable utilizada en una librería. Funciona en una lista con sublistas, que se ven así:\n",
    "![imagen.png](attachment:imagen.png)\n",
    "Escriba un programa en Python, que devuelve una lista con tuplas de tamaño 2. Cada tupla consiste en el número de pedido y el costo total del pedido. El producto debe aumentarse en 10€ si el valor de la orden es inferior a 100,00 €. \n",
    "Escribe un programa Python usando unicamente las funciones **lambda y map**.\n",
    "\n",
    "`orders = [ [\"34587\", \"Learning Python, Mark Lutz\", 4, 40.95], \n",
    "           [\"98762\", \"Programming Python, Mark Lutz\", 5, 56.80], \n",
    "           [\"77226\", \"Head First Python, Paul Barry\", 3,32.95],\n",
    "           [\"88112\", \"Einführung in Python3, Bernd Klein\", 3, 24.99]]`"
   ]
  },
  {
   "cell_type": "code",
   "execution_count": 2,
   "metadata": {},
   "outputs": [
    {
     "data": {
      "text/plain": [
       "[['34587', 'Learning Python, Mark Lutz', 4, 40.95],\n",
       " ['98762', 'Programming Python, Mark Lutz', 5, 56.8],\n",
       " ['77226', 'Head First Python, Paul Barry', 3, 32.95],\n",
       " ['88112', 'Einführung in Python3, Bernd Klein', 3, 24.99]]"
      ]
     },
     "execution_count": 2,
     "metadata": {},
     "output_type": "execute_result"
    }
   ],
   "source": [
    "orders = [ [\"34587\", \"Learning Python, Mark Lutz\", 4, 40.95], \n",
    "           [\"98762\", \"Programming Python, Mark Lutz\", 5, 56.80], \n",
    "           [\"77226\", \"Head First Python, Paul Barry\", 3,32.95],\n",
    "           [\"88112\", \"Einführung in Python3, Bernd Klein\", 3, 24.99]]\n",
    "orders"
   ]
  },
  {
   "cell_type": "code",
   "execution_count": 3,
   "metadata": {},
   "outputs": [
    {
     "data": {
      "text/plain": [
       "[('34587', 163.8),\n",
       " ('98762', 284.0),\n",
       " ('77226', 108.85000000000001),\n",
       " ('88112', 84.97)]"
      ]
     },
     "execution_count": 3,
     "metadata": {},
     "output_type": "execute_result"
    }
   ],
   "source": [
    "# Respuesta Andrés\n",
    "cuenta=list(map(lambda x:orders[x][2]*orders[x][3] if orders[x][2]*orders[x][3]>100 else orders[x][2]*orders[x][3]+10\n",
    "                ,range(len(orders))))\n",
    "resultado=list(map(lambda x: (orders[x][0],cuenta[x]),range(len(orders))))\n",
    "resultado"
   ]
  },
  {
   "cell_type": "markdown",
   "metadata": {},
   "source": [
    "| $$Número de Órden$$ | $$Cuenta$$ |\n",
    "|:-:|-|\n",
    "|$$34587$$ | $$163.8$$ |\n",
    "|$98762$  | $284.0$| \n",
    "|$77226$ | $108.85000000000001$|\n",
    "| $88112$ | $84.97$|\n"
   ]
  },
  {
   "cell_type": "markdown",
   "metadata": {},
   "source": [
    "Esta tabla es el resultado de un algoritmo condicional que además de agregar 10 en caso de una órden menor a 100 si no que también se adjuntaba el número de órden."
   ]
  },
  {
   "cell_type": "code",
   "execution_count": 4,
   "metadata": {},
   "outputs": [
    {
     "data": {
      "text/plain": [
       "[('34587', 163.8),\n",
       " ('98762', 284.0),\n",
       " ('77226', 108.85000000000001),\n",
       " ('88112', 84.97)]"
      ]
     },
     "execution_count": 4,
     "metadata": {},
     "output_type": "execute_result"
    }
   ],
   "source": [
    "# Respuesta Pablo\n",
    "rf =  list(map(lambda x: (orders[x][0], orders[x][3] * orders[x][2] + 10 if orders[x][3] * orders[x][2] < 100 else orders[x][3] * orders[x][2]), range(len(orders))))\n",
    "rf"
   ]
  },
  {
   "cell_type": "markdown",
   "metadata": {},
   "source": [
    "El resultado de este ejercicio es la lista de tuplas anterior. Usé la función de map como iterador, esta itera simplemente sobre la longitud de la lista orders qué es 4. Se va a iterar sobre una función anónima lambda, con una sola variable x, que regresa una tupla de dos elementos, el primero consiste en los elementos de la primer columna (se itera en la fila con la variable x) y el segundo consiste en la multiplicación del precio por la cantidad (igual se itera por cada fila) más una condición que nos pide el problema."
   ]
  },
  {
   "cell_type": "code",
   "execution_count": 5,
   "metadata": {},
   "outputs": [],
   "source": [
    "# Respuesta Esteban"
   ]
  },
  {
   "cell_type": "code",
   "execution_count": null,
   "metadata": {},
   "outputs": [],
   "source": []
  },
  {
   "cell_type": "markdown",
   "metadata": {},
   "source": [
    "### Ejercicio 2"
   ]
  },
  {
   "cell_type": "markdown",
   "metadata": {},
   "source": [
    "2. La misma librería, pero esta vez trabajamos en una lista diferente. Las sublistas de nuestras listas se ven así: \n",
    "[número de orden, (número de artículo, cantidad, precio por unidad), ... (número de artículo, cantidad, precio por unidad)] \n",
    "\n",
    "`orders = [[1, (\"5464\", 4, 9.99), (\"8274\",18,12.99), (\"9744\", 9, 44.95)], \n",
    "\t       [2, (\"5464\", 9, 9.99), (\"9744\", 9, 44.95)],\n",
    "\t       [3, (\"5464\", 9, 9.99), (\"88112\", 11, 24.99)],\n",
    "           [4, (\"8732\", 7, 11.99), (\"7733\",11,18.99), (\"88112\", 5, 39.95)] ]`\n",
    "\n",
    "Escriba un programa que devuelva una lista de dos tuplas que tengan la información de (número de pedido, cantidad total de pedido). Utilice la función `Reduce`. Recuerde el precio del pedido del producto debe aumentarse en 10€ si el valor de la orden es inferior a 100,00 €."
   ]
  },
  {
   "cell_type": "code",
   "execution_count": 6,
   "metadata": {},
   "outputs": [
    {
     "data": {
      "text/plain": [
       "[[1, ('5464', 4, 9.99), ('8274', 18, 12.99), ('9744', 9, 44.95)],\n",
       " [2, ('5464', 9, 9.99), ('9744', 9, 44.95)],\n",
       " [3, ('5464', 9, 9.99), ('88112', 11, 24.99)],\n",
       " [4, ('8732', 7, 11.99), ('7733', 11, 18.99), ('88112', 5, 39.95)]]"
      ]
     },
     "execution_count": 6,
     "metadata": {},
     "output_type": "execute_result"
    }
   ],
   "source": [
    "orders2 = [[1, (\"5464\", 4, 9.99), (\"8274\",18,12.99), (\"9744\", 9, 44.95)], \n",
    "           [2, (\"5464\", 9, 9.99), (\"9744\", 9, 44.95)],\n",
    "           [3, (\"5464\", 9, 9.99), (\"88112\", 11, 24.99)],\n",
    "           [4, (\"8732\", 7, 11.99), (\"7733\",11,18.99), (\"88112\", 5, 39.95)] ]\n",
    "orders2"
   ]
  },
  {
   "cell_type": "code",
   "execution_count": 7,
   "metadata": {},
   "outputs": [
    {
     "data": {
      "text/plain": [
       "[(1, 688.3299999999999),\n",
       " (2, 504.46000000000004),\n",
       " (3, 374.79999999999995),\n",
       " (4, 502.57)]"
      ]
     },
     "execution_count": 7,
     "metadata": {},
     "output_type": "execute_result"
    }
   ],
   "source": [
    "# Respuesta Andrés\n",
    "orders_2=list(map(lambda x:(x[0],reduce(lambda x,y:x+y,list(map(lambda x:x[1]*x[2] if x[1]*x[2] >100 else x[1]*x[2]+10, x[1:])))),orders2))\n",
    "orders_2"
   ]
  },
  {
   "cell_type": "markdown",
   "metadata": {},
   "source": [
    "En esta tabla trabajamos el mismo condicional la diferencia es que esto presenta tambien la órden que representa dejando atras títulos y toda información innecesaria."
   ]
  },
  {
   "cell_type": "code",
   "execution_count": 8,
   "metadata": {},
   "outputs": [
    {
     "data": {
      "text/plain": [
       "[(1, 688.3299999999999),\n",
       " (2, 504.46000000000004),\n",
       " (3, 374.79999999999995),\n",
       " (4, 502.57)]"
      ]
     },
     "execution_count": 8,
     "metadata": {},
     "output_type": "execute_result"
    }
   ],
   "source": [
    "# Respuesta Pablo\n",
    "rf2 = list(map(lambda x: ((x[0]), reduce(lambda z, w: z + w, list(map(lambda y: y[1] * y[2] + 10 if y[1] * y[2] < 100 else y[1] * y[2], x[1:])))), orders2))\n",
    "rf2"
   ]
  },
  {
   "cell_type": "markdown",
   "metadata": {},
   "source": [
    "El resultado del ejercicio es nuevamente la lista de tuplas anterior. Una parte clave del mismo fue la función reduce la cual se va recorriendo sobre los valores especificados y hace lo que le pidamos, en este caso una suma de dichos valores. "
   ]
  },
  {
   "cell_type": "code",
   "execution_count": 9,
   "metadata": {},
   "outputs": [],
   "source": [
    "# Respuesta Esteban"
   ]
  },
  {
   "cell_type": "code",
   "execution_count": null,
   "metadata": {},
   "outputs": [],
   "source": []
  },
  {
   "cell_type": "markdown",
   "metadata": {},
   "source": [
    "### Ejercicio 3"
   ]
  },
  {
   "cell_type": "markdown",
   "metadata": {},
   "source": [
    "3. Resolver los anteriores ejercicios usando pandas (DataFrame)"
   ]
  },
  {
   "cell_type": "code",
   "execution_count": 10,
   "metadata": {},
   "outputs": [
    {
     "data": {
      "text/plain": [
       "[('34587', 163.8),\n",
       " ('98762', 284.0),\n",
       " ('77226', 108.85000000000001),\n",
       " ('88112', 84.97)]"
      ]
     },
     "execution_count": 10,
     "metadata": {},
     "output_type": "execute_result"
    }
   ],
   "source": [
    "# Respuesta Andrés\n",
    "df = pd.DataFrame(orders, columns = ['Órden','Libro','Cantidad','Precio']).set_index('Órden')\n",
    "\n",
    "df2 =  list(map(lambda x: (df.index[x], df.iloc[x,2] * df.iloc[x,1] + 10 if df.iloc[x,2] * df.iloc[x,1] < 100 else df.iloc[x,2] * df.iloc[x,1]), range(len(df))))\n",
    "df2"
   ]
  },
  {
   "cell_type": "markdown",
   "metadata": {},
   "source": [
    "| $$Número de Órden$$ | $$Cuenta$$ |\n",
    "|:-:|-|\n",
    "|$$34587$$ | $$163.8$$ |\n",
    "|$98762$  | $284.0$| \n",
    "|$77226$ | $108.85$|\n",
    "| $88112$ | $84.97$|\n"
   ]
  },
  {
   "cell_type": "markdown",
   "metadata": {},
   "source": [
    "Esta tabla es el resultado de un algoritmo condicional que además de agregar 10 en caso de una órden menor a 100 si no que también se adjuntaba el número de órden."
   ]
  },
  {
   "cell_type": "code",
   "execution_count": 11,
   "metadata": {},
   "outputs": [
    {
     "data": {
      "text/plain": [
       "[('34587', 163.8),\n",
       " ('98762', 284.0),\n",
       " ('77226', 108.85000000000001),\n",
       " ('88112', 84.97)]"
      ]
     },
     "execution_count": 11,
     "metadata": {},
     "output_type": "execute_result"
    }
   ],
   "source": [
    "# Respuesta Pablo\n",
    "orders_p = pd.DataFrame(orders, columns = ['Órden','Libro','Cantidad','Precio']).set_index('Órden')\n",
    "\n",
    "r3p =  list(map(lambda x: (orders_p.index[x], orders_p.iloc[x,2] * orders_p.iloc[x,1] + 10 if orders_p.iloc[x,2] * orders_p.iloc[x,1] < 100 else orders_p.iloc[x,2] * orders_p.iloc[x,1]), range(len(orders_p))))\n",
    "r3p"
   ]
  },
  {
   "cell_type": "code",
   "execution_count": 12,
   "metadata": {},
   "outputs": [
    {
     "data": {
      "text/plain": [
       "[(1, 688.3299999999999),\n",
       " (2, 504.46000000000004),\n",
       " (3, 374.79999999999995),\n",
       " (4, 502.57)]"
      ]
     },
     "execution_count": 12,
     "metadata": {},
     "output_type": "execute_result"
    }
   ],
   "source": [
    "orders_p2 = pd.DataFrame(orders2, columns = ['Órden','Libro','Cantidad','Precio']).set_index('Órden')\n",
    "orders_p2.fillna(value = np.nan, inplace = True)\n",
    "orders_p2 = orders_p2.applymap(lambda x: (0,0,0) if x is np.nan else x)\n",
    "\n",
    "r32p = list(map(lambda x: (x, reduce(lambda z, w: z + w, \n",
    "            list(map(lambda y: orders_p2[y][x][1] * orders_p2[y][x][2] + 10 \n",
    "                             if 0 < orders_p2[y][x][1] * orders_p2[y][x][2] <= 100 \n",
    "                             else orders_p2[y][x][1] * orders_p2[y][x][2], \n",
    "                             orders_p2.columns.values)))), orders_p2.index))\n",
    "r32p"
   ]
  },
  {
   "cell_type": "markdown",
   "metadata": {},
   "source": [
    "Estos son ambos resultados del ejercicio 1 y 2 usando DataFrames. El primero estuvo relativamente sencillo ya teniendo el código del ejercicio 1, solamente se usa iloc para seleccionar los datos requeridos. En cuanto al ejercicio 2 con pandas, este se me hizo mucho más complicado. Lo que terminé haciendo fue primero poner nan en donde faltaban datos y después reemplazarlos con una tupla de 3 ceros, posteriormente, el código es parecido al del ejercicio 2 solamente que se acceden de manera diferente a los datos. Para tomar el número de orden simplemente se usó el index, tomar los valores dentro de las tuplas se volvió algo complicado, en este caso accedo a ellos a través de la iteración sobre las columnas (y), aparte se itera sobre todas las filas (x) y va tomando el valor 1 y 2 para multiplicarlos. Después de tener acceso a todos los datos simplemente se agregó la condición y la función reduce para sumarlos.          "
   ]
  },
  {
   "cell_type": "code",
   "execution_count": 13,
   "metadata": {},
   "outputs": [],
   "source": [
    "# Respuesta Esteban"
   ]
  },
  {
   "cell_type": "code",
   "execution_count": null,
   "metadata": {},
   "outputs": [],
   "source": []
  },
  {
   "cell_type": "markdown",
   "metadata": {},
   "source": [
    "### Ejercicio 4"
   ]
  },
  {
   "cell_type": "markdown",
   "metadata": {},
   "source": [
    "4. Use filter to eliminate all words that are shorter than 4 letters from a list of words\n",
    "`list='the notion of a lambda function goes all the way back to the origin of computer science'`"
   ]
  },
  {
   "cell_type": "code",
   "execution_count": 14,
   "metadata": {},
   "outputs": [],
   "source": [
    "lista = 'the notion of a lambda function goes all the way back to the origin of computer science'"
   ]
  },
  {
   "cell_type": "code",
   "execution_count": 15,
   "metadata": {},
   "outputs": [
    {
     "data": {
      "text/plain": [
       "['notion',\n",
       " 'lambda',\n",
       " 'function',\n",
       " 'goes',\n",
       " 'back',\n",
       " 'origin',\n",
       " 'computer',\n",
       " 'science']"
      ]
     },
     "execution_count": 15,
     "metadata": {},
     "output_type": "execute_result"
    }
   ],
   "source": [
    "# Respuesta Andrés\n",
    "lista = 'the notion of a lambda function goes all the way back to the origin of computer science'\n",
    "list(filter(lambda x:len(x)>=4,lista.split()))"
   ]
  },
  {
   "cell_type": "markdown",
   "metadata": {},
   "source": [
    "| Words | 1 | 2 | 3 | 4 | 5 | 6 | 7 | 8 | 9 |\n",
    "|:-:|-|-|-|-|-|-|-|-|-|\n",
    "| $$<4 letters $$ | notion | lambda | function | goes | back | origin | computer |"
   ]
  },
  {
   "cell_type": "markdown",
   "metadata": {},
   "source": [
    "En este resultado lo que damos a resaltar es como la función filter nos devolvió todas las palabras mayores a 4 letras."
   ]
  },
  {
   "cell_type": "code",
   "execution_count": 16,
   "metadata": {},
   "outputs": [
    {
     "data": {
      "text/plain": [
       "['notion',\n",
       " 'lambda',\n",
       " 'function',\n",
       " 'goes',\n",
       " 'back',\n",
       " 'origin',\n",
       " 'computer',\n",
       " 'science']"
      ]
     },
     "execution_count": 16,
     "metadata": {},
     "output_type": "execute_result"
    }
   ],
   "source": [
    "# Respuesta Pablo\n",
    "r4p = list(filter(lambda x: len(x) >= 4, lista.split()))\n",
    "r4p"
   ]
  },
  {
   "cell_type": "code",
   "execution_count": 17,
   "metadata": {},
   "outputs": [
    {
     "data": {
      "text/plain": [
       "['notion',\n",
       " 'lambda',\n",
       " 'function',\n",
       " 'goes',\n",
       " 'back',\n",
       " 'origin',\n",
       " 'computer',\n",
       " 'science']"
      ]
     },
     "execution_count": 17,
     "metadata": {},
     "output_type": "execute_result"
    }
   ],
   "source": [
    "r42p = [i for i in lista.split() if len(i) >= 4]\n",
    "r42p"
   ]
  },
  {
   "cell_type": "markdown",
   "metadata": {},
   "source": [
    "El resultado de este ejercicio es una lista de palabras que cumplen con la condición que le indicamos, que su longitud sea mayor o igual a 4. Se usó la función filter, pusimos la condición y esta no devolvía los valores que True que cumplieran con la misma, revisa la condición sobre las palabras de la lista. Como extra, lo hice también con compresión de listas para ver si salía y si funcionó. "
   ]
  },
  {
   "cell_type": "code",
   "execution_count": 18,
   "metadata": {},
   "outputs": [],
   "source": [
    "# Respuesta Esteban"
   ]
  },
  {
   "cell_type": "code",
   "execution_count": null,
   "metadata": {},
   "outputs": [],
   "source": []
  },
  {
   "cell_type": "markdown",
   "metadata": {},
   "source": [
    "### Ejercicio 5"
   ]
  },
  {
   "cell_type": "markdown",
   "metadata": {},
   "source": [
    "5. Use filter to determine the percentage of Fahrenheit temperatures in a list are within the range 32 to 80"
   ]
  },
  {
   "cell_type": "code",
   "execution_count": 19,
   "metadata": {},
   "outputs": [
    {
     "name": "stdout",
     "output_type": "stream",
     "text": [
      "[ 35.97387961  99.13294268  92.6178302   99.69549478  63.21119535\n",
      "  73.90387697  95.50028838  99.21476553  36.98251238 101.45813729\n",
      " 100.5917418   89.38159435  89.52156589  83.8084752   28.37990868\n",
      "  68.75395211  45.86132067  36.58307493  56.32208365  33.96219302\n",
      "  45.29071318  74.86289938  66.51091383  88.19316186  94.26635864\n",
      "  46.83131624 109.60744472 109.68427993  44.55796499  92.84146259]\n"
     ]
    }
   ],
   "source": [
    "np.random.seed(55555)\n",
    "temperatures = np.random.uniform(25,110,30)\n",
    "print(temperatures)"
   ]
  },
  {
   "cell_type": "code",
   "execution_count": 20,
   "metadata": {},
   "outputs": [
    {
     "data": {
      "text/plain": [
       "0.4666666666666667"
      ]
     },
     "execution_count": 20,
     "metadata": {},
     "output_type": "execute_result"
    }
   ],
   "source": [
    "# Respuesta Andrés\n",
    "temperaturas=len(list(filter(lambda x:32<=x<=80,temperatures)))/len (temperatures)\n",
    "temperaturas"
   ]
  },
  {
   "cell_type": "markdown",
   "metadata": {},
   "source": [
    "Aquí se representa en porcentaje la cantidad de temperaturas filtradas que contaban con la condición de rango 32 a 80."
   ]
  },
  {
   "cell_type": "code",
   "execution_count": 21,
   "metadata": {},
   "outputs": [
    {
     "data": {
      "text/plain": [
       "0.4666666666666667"
      ]
     },
     "execution_count": 21,
     "metadata": {},
     "output_type": "execute_result"
    }
   ],
   "source": [
    "# Respuesta Pablo\n",
    "temper = list(filter(lambda x: 32 <= x <= 80, temperatures))\n",
    "len(temper)/len(temperatures)"
   ]
  },
  {
   "cell_type": "markdown",
   "metadata": {},
   "source": [
    "El resultado nos devuelve una lista con todas las temperaturas mayores a 32ºF y menores a 80ºF lo cual se dividió sobre el total de datos. Nuevamente usamos la función filter para que nos devolviera los valores en la variable temperatures que cumplieran con la condición indicada (mayor a 32 y menor que 80)."
   ]
  },
  {
   "cell_type": "code",
   "execution_count": 22,
   "metadata": {},
   "outputs": [],
   "source": [
    "# Respuesta Esteban"
   ]
  },
  {
   "cell_type": "code",
   "execution_count": null,
   "metadata": {},
   "outputs": [],
   "source": []
  },
  {
   "cell_type": "markdown",
   "metadata": {},
   "source": [
    "### Ejercicio 6"
   ]
  },
  {
   "cell_type": "markdown",
   "metadata": {},
   "source": [
    "6. Use reduce to find the lower left corner (minimum x and minimum y value) for a list of point locations\n",
    "> **Hint**: Explore the command `np.minimum.reduce` [link](https://docs.scipy.org/doc/numpy/reference/generated/numpy.ufunc.reduce.html)"
   ]
  },
  {
   "cell_type": "code",
   "execution_count": 23,
   "metadata": {},
   "outputs": [
    {
     "name": "stdout",
     "output_type": "stream",
     "text": [
      "[[17 97]\n",
      " [22 33]\n",
      " [37 46]\n",
      " [57 28]\n",
      " [11 25]\n",
      " [14  2]\n",
      " [74 16]\n",
      " [12 37]\n",
      " [35 21]\n",
      " [66 65]\n",
      " [86 58]\n",
      " [67 81]\n",
      " [ 0 48]\n",
      " [28 66]\n",
      " [76 22]\n",
      " [46 47]\n",
      " [64  7]\n",
      " [88 94]\n",
      " [65 13]\n",
      " [75 89]\n",
      " [23 17]\n",
      " [36 63]\n",
      " [62 36]\n",
      " [64 17]\n",
      " [18 19]\n",
      " [88 41]\n",
      " [21 49]\n",
      " [98 36]\n",
      " [81 73]\n",
      " [62 90]]\n"
     ]
    }
   ],
   "source": [
    "np.random.seed(55555)\n",
    "point_xy = np.random.randint(0,100,[30,2])\n",
    "print(point_xy)"
   ]
  },
  {
   "cell_type": "code",
   "execution_count": 24,
   "metadata": {},
   "outputs": [
    {
     "data": {
      "text/plain": [
       "array([0, 2])"
      ]
     },
     "execution_count": 24,
     "metadata": {},
     "output_type": "execute_result"
    }
   ],
   "source": [
    "# Respuesta Andrés\n",
    "np.minimum.reduce(point_xy)"
   ]
  },
  {
   "cell_type": "markdown",
   "metadata": {},
   "source": [
    "| Words | Left | Right |\n",
    "|:-:|-|-|\n",
    "| $$Minimum Value $$ | $$0$$ | $$2$$|"
   ]
  },
  {
   "cell_type": "markdown",
   "metadata": {},
   "source": [
    "Esta tabla nos indica que valor es el mínimo en cada columna de información, esto sería sumamente útil cuando se manejan cantidades de datos que no son posibles contar manualmente."
   ]
  },
  {
   "cell_type": "code",
   "execution_count": 25,
   "metadata": {},
   "outputs": [
    {
     "data": {
      "text/plain": [
       "array([0, 2])"
      ]
     },
     "execution_count": 25,
     "metadata": {},
     "output_type": "execute_result"
    }
   ],
   "source": [
    "# Respuesta Pablo\n",
    "np.minimum.reduce(point_xy)"
   ]
  },
  {
   "cell_type": "markdown",
   "metadata": {},
   "source": [
    "El resultado nos devuelve el valor más pequeño de la columna izquierda (x) y de la derecha (y). Esta función se aplica a cada axis de manera individual, minimum solamente nos selecciona el valor mínimo de este axis (hay otras funciones como multiply) y según entendí es algo parecida a reduce en cuanto a que se mueve y compara sobre cada valor. "
   ]
  },
  {
   "cell_type": "code",
   "execution_count": 26,
   "metadata": {},
   "outputs": [],
   "source": [
    "# Respuesta Esteban"
   ]
  },
  {
   "cell_type": "code",
   "execution_count": null,
   "metadata": {},
   "outputs": [],
   "source": []
  },
  {
   "cell_type": "markdown",
   "metadata": {},
   "source": [
    "### Ejercicio Extra"
   ]
  },
  {
   "cell_type": "markdown",
   "metadata": {},
   "source": [
    "### Ejercicio: Vectorizar distribución de poisson\n",
    "$$\\textbf{Función de densidad de probabilidad}\\\\p(k)=\\frac{\\lambda^k e^{-\\lambda}}{k!},\\quad k\\in \\mathbb{N}$$"
   ]
  },
  {
   "cell_type": "code",
   "execution_count": 3,
   "metadata": {},
   "outputs": [],
   "source": [
    "from itertools import cycle  # Librería para hacer ciclos\n",
    "import matplotlib.pyplot as plt"
   ]
  },
  {
   "cell_type": "code",
   "execution_count": 4,
   "metadata": {},
   "outputs": [],
   "source": [
    "# Respuesta Andrés"
   ]
  },
  {
   "cell_type": "code",
   "execution_count": 7,
   "metadata": {},
   "outputs": [],
   "source": [
    "\n",
    "N=30\n",
    "cycol = cycle('bgrcmk')\n",
    "p = lambda k,l:(l**k*np.exp(-l))/sps.gamma(k) \n",
    "l = [1, 3, 5]\n",
    "\n",
    "def poisson (p,N,cycol):\n",
    "    fig, (ax1, ax2) = plt.subplots(2, 1, figsize=(10,10));\n",
    "    P=np.asmatrix([[p(k,l) for k in range (N)]for l in l])\n",
    "    ax1.plot(P,'o',c=c,label='$\\lambda$=%s' % l, markersize=2)        \n",
    "    ax1.legend()\n",
    "    ax2.plot(np.cumsum(P),'o',c=c,label='$\\lambda$=%s' % l, markersize=3)\n",
    "    ax2.legend()\n",
    "    ax2.hlines(np.cumsum(P),range(len(P)),range(1,len(P)+1),color=c)\n",
    "    l +=20\n",
    "    plt.show()\n",
    "    \n"
   ]
  },
  {
   "cell_type": "code",
   "execution_count": 12,
   "metadata": {},
   "outputs": [
    {
     "data": {
      "image/png": "[encoded data removed]",
      "text/plain": [
       "<Figure size 720x720 with 2 Axes>"
      ]
     },
     "metadata": {
      "needs_background": "light"
     },
     "output_type": "display_data"
    }
   ],
   "source": [
    "plotExponential(p, N, cycol)"
   ]
  },
  {
   "cell_type": "code",
   "execution_count": 8,
   "metadata": {},
   "outputs": [],
   "source": [
    "# Respuesta Pablo\n",
    "cycol = cycle('bgrcmk')\n",
    "p = lambda k,l:(l**k*np.exp(-l))/sps.gamma(k)\n",
    "N = 60\n",
    "l = [1,21,41]\n",
    "\n",
    "def plotExponential(lamb, N, cycol):\n",
    "    fig, (ax1, ax2) = plt.subplots(2, 1, figsize=(10,10));\n",
    "    P = np.asmatrix([[lamb(k,l) for k in range(N)] for l in l])\n",
    "    ax1.plot(P.T, 'o', markersize = 3, label = l); # No logré hacer que el label saliera bien por la variable l.\n",
    "    ax1.legend()\n",
    "    [ax2.plot(np.cumsum(P[i]).T, 'o', markersize = 3, label = '$\\lambda$=%s' % l[i]) for i in range(len(l))]\n",
    "    ax2.legend()\n",
    "    plt.show()"
   ]
  },
  {
   "cell_type": "code",
   "execution_count": 11,
   "metadata": {},
   "outputs": [
    {
     "data": {
      "image/png": "[encoded data removed]",
      "text/plain": [
       "<Figure size 720x720 with 2 Axes>"
      ]
     },
     "metadata": {
      "needs_background": "light"
     },
     "output_type": "display_data"
    }
   ],
   "source": [
    "plotExponential(p, N, cycol)"
   ]
  },
  {
   "cell_type": "markdown",
   "metadata": {},
   "source": [
    "En este ejercicio se graficó la distribución de Poisson usando únicamente matrices. Para esto se creo una función lambda la cual itera sobre dos valores (k y l) y almacena los resultados en una matriz la cual, como vimos en clase, es relativamente sencilla de graficar al transponerla. La segunda gráfica representa la suma acumulada de la distribución. Tuve un pequeño problema, no logré hacer que la variable l empezara en un número y que cada iteración se le agregara 20, es decir, no logré incorporar al código el += l, es por esto que los labels del primero no salieron bien. "
   ]
  },
  {
   "cell_type": "code",
   "execution_count": 31,
   "metadata": {},
   "outputs": [],
   "source": [
    "# Respuesta Esteban"
   ]
  },
  {
   "cell_type": "code",
   "execution_count": null,
   "metadata": {},
   "outputs": [],
   "source": []
  }
 ],
 "metadata": {
  "kernelspec": {
   "display_name": "Python 3",
   "language": "python",
   "name": "python3"
  },
  "language_info": {
   "codemirror_mode": {
    "name": "ipython",
    "version": 3
   },
   "file_extension": ".py",
   "mimetype": "text/x-python",
   "name": "python",
   "nbconvert_exporter": "python",
   "pygments_lexer": "ipython3",
   "version": "3.7.4"
  }
 },
 "nbformat": 4,
 "nbformat_minor": 4
}
